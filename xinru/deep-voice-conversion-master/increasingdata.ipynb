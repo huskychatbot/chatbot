{
 "cells": [
  {
   "cell_type": "code",
   "execution_count": 1,
   "metadata": {
    "scrolled": false
   },
   "outputs": [
    {
     "name": "stderr",
     "output_type": "stream",
     "text": [
      "WARNING: Logging before flag parsing goes to stderr.\n",
      "W0620 20:42:46.453573 139967258507072 deprecation_wrapper.py:119] From /home/xinru/anaconda3/lib/python3.7/site-packages/tensorpack/tfutils/common.py:139: The name tf.VERSION is deprecated. Please use tf.version.VERSION instead.\n",
      "\n",
      "W0620 20:42:46.454877 139967258507072 deprecation_wrapper.py:119] From /home/xinru/anaconda3/lib/python3.7/site-packages/tensorpack/models/tflayer.py:116: The name tf.layers.Dense is deprecated. Please use tf.compat.v1.layers.Dense instead.\n",
      "\n",
      "W0620 20:42:46.461465 139967258507072 deprecation_wrapper.py:119] From /home/xinru/anaconda3/lib/python3.7/site-packages/tensorpack/callbacks/graph.py:81: The name tf.GraphKeys is deprecated. Please use tf.compat.v1.GraphKeys instead.\n",
      "\n",
      "W0620 20:42:46.463683 139967258507072 deprecation_wrapper.py:119] From /home/xinru/anaconda3/lib/python3.7/site-packages/tensorpack/callbacks/hooks.py:13: The name tf.train.SessionRunHook is deprecated. Please use tf.estimator.SessionRunHook instead.\n",
      "\n",
      "W0620 20:42:46.476448 139967258507072 deprecation_wrapper.py:119] From /home/xinru/anaconda3/lib/python3.7/site-packages/tensorpack/tfutils/optimizer.py:14: The name tf.train.Optimizer is deprecated. Please use tf.compat.v1.train.Optimizer instead.\n",
      "\n",
      "W0620 20:42:46.477891 139967258507072 deprecation_wrapper.py:119] From /home/xinru/anaconda3/lib/python3.7/site-packages/tensorpack/tfutils/sesscreate.py:20: The name tf.train.ChiefSessionCreator is deprecated. Please use tf.compat.v1.train.ChiefSessionCreator instead.\n",
      "\n",
      "W0620 20:42:46.478774 139967258507072 deprecation_wrapper.py:119] From /home/xinru/anaconda3/lib/python3.7/site-packages/tensorpack/tfutils/sesscreate.py:44: The name tf.train.SessionCreator is deprecated. Please use tf.compat.v1.train.SessionCreator instead.\n",
      "\n",
      "W0620 20:42:46.775608 139967258507072 deprecation_wrapper.py:119] From /home/xinru/anaconda3/lib/python3.7/site-packages/tfplot/figure.py:18: The name tf.Summary is deprecated. Please use tf.compat.v1.Summary instead.\n",
      "\n"
     ]
    },
    {
     "name": "stdout",
     "output_type": "stream",
     "text": [
      "case: test, logdir: /home/xinru/ChineseTutor/deep-voice-conversion-master/data/private/vc/logdir/test/train1\n",
      "\u001b[32m[0620 20:42:46 @logger.py:109]\u001b[0m \u001b[5m\u001b[31mWRN\u001b[0m Log directory /home/xinru/ChineseTutor/deep-voice-conversion-master/data/private/vc/logdir/test/train1 exists! Use 'd' to delete it. \n",
      "\u001b[32m[0620 20:42:46 @logger.py:112]\u001b[0m \u001b[5m\u001b[31mWRN\u001b[0m If you're resuming from a previous run, you can choose to keep it.\n",
      "Press any other key to exit. \n"
     ]
    },
    {
     "name": "stderr",
     "output_type": "stream",
     "text": [
      "/home/xinru/ChineseTutor/deep-voice-conversion-master/hparam.py:11: YAMLLoadWarning: calling yaml.load_all() without Loader=... is deprecated, as the default Loader is unsafe. Please read https://msg.pyyaml.org/load for full details.\n",
      "  for doc in docs:\n"
     ]
    },
    {
     "name": "stdout",
     "output_type": "stream",
     "text": [
      "Select Action: k (keep) / d (delete) / q (quit):k\n",
      "\u001b[32m[0620 20:42:49 @logger.py:67]\u001b[0m Existing log file '/home/xinru/ChineseTutor/deep-voice-conversion-master/data/private/vc/logdir/test/train1/log.log' backuped to '/home/xinru/ChineseTutor/deep-voice-conversion-master/data/private/vc/logdir/test/train1/log.log.0620-204249'\n",
      "\u001b[32m[0620 20:42:49 @logger.py:74]\u001b[0m Argv: train1.py test\n"
     ]
    },
    {
     "name": "stderr",
     "output_type": "stream",
     "text": [
      "W0620 20:42:49.590930 139967258507072 deprecation_wrapper.py:119] From /home/xinru/ChineseTutor/deep-voice-conversion-master/train1.py:34: The name tf.ConfigProto is deprecated. Please use tf.compat.v1.ConfigProto instead.\n",
      "\n",
      "W0620 20:42:49.591781 139967258507072 deprecation_wrapper.py:119] From /home/xinru/ChineseTutor/deep-voice-conversion-master/train1.py:35: The name tf.GPUOptions is deprecated. Please use tf.compat.v1.GPUOptions instead.\n",
      "\n"
     ]
    },
    {
     "name": "stdout",
     "output_type": "stream",
     "text": [
      "\u001b[32m[0620 20:42:49 @parallel.py:185]\u001b[0m [MultiProcessPrefetchData] Will fork a dataflow more than one times. This assumes the datapoints are i.i.d.\n"
     ]
    },
    {
     "name": "stderr",
     "output_type": "stream",
     "text": [
      "W0620 20:42:49.646553 139967258507072 deprecation_wrapper.py:119] From /home/xinru/anaconda3/lib/python3.7/site-packages/tensorpack/callbacks/saver.py:41: The name tf.gfile.IsDirectory is deprecated. Please use tf.io.gfile.isdir instead.\n",
      "\n"
     ]
    },
    {
     "name": "stdout",
     "output_type": "stream",
     "text": [
      "\u001b[32m[0620 20:42:49 @training.py:41]\u001b[0m [DataParallel] Training a model of 2 towers.\n",
      "\u001b[32m[0620 20:42:49 @training.py:43]\u001b[0m \u001b[4m\u001b[5m\u001b[31mERR\u001b[0m [DataParallel] TensorFlow was not built with CUDA support!\n",
      "\u001b[32m[0620 20:42:49 @interface.py:42]\u001b[0m Automatically applying StagingInput on the DataFlow.\n",
      "\u001b[32m[0620 20:42:49 @input_source.py:193]\u001b[0m Setting up the queue 'QueueInput/input_queue' for CPU prefetching ...\n"
     ]
    },
    {
     "name": "stderr",
     "output_type": "stream",
     "text": [
      "W0620 20:42:49.731575 139967258507072 deprecation_wrapper.py:119] From /home/xinru/anaconda3/lib/python3.7/site-packages/tensorpack/tfutils/summary.py:254: The name tf.summary.scalar is deprecated. Please use tf.compat.v1.summary.scalar instead.\n",
      "\n"
     ]
    },
    {
     "name": "stdout",
     "output_type": "stream",
     "text": [
      "\u001b[32m[0620 20:42:49 @training.py:101]\u001b[0m Building graph for training tower 0 on device /gpu:0 ...\n"
     ]
    },
    {
     "name": "stderr",
     "output_type": "stream",
     "text": [
      "W0620 20:42:49.746806 139967258507072 deprecation.py:323] From /home/xinru/ChineseTutor/deep-voice-conversion-master/modules.py:272: dense (from tensorflow.python.layers.core) is deprecated and will be removed in a future version.\n",
      "Instructions for updating:\n",
      "Use keras.layers.dense instead.\n",
      "W0620 20:42:49.761640 139967258507072 deprecation.py:506] From /home/xinru/anaconda3/lib/python3.7/site-packages/tensorflow/python/ops/init_ops.py:1251: calling VarianceScaling.__init__ (from tensorflow.python.ops.init_ops) with dtype is deprecated and will be removed in a future version.\n",
      "Instructions for updating:\n",
      "Call initializer instance with the dtype argument instead of passing it to the constructor\n",
      "Process _Worker-1:\n",
      "Traceback (most recent call last):\n",
      "  File \"/home/xinru/anaconda3/lib/python3.7/multiprocessing/process.py\", line 297, in _bootstrap\n",
      "    self.run()\n",
      "  File \"/home/xinru/anaconda3/lib/python3.7/site-packages/tensorpack/dataflow/parallel.py\", line 162, in run\n",
      "    for dp in self.ds.get_data():\n",
      "  File \"/home/xinru/anaconda3/lib/python3.7/site-packages/tensorpack/dataflow/common.py\", line 116, in get_data\n",
      "    for data in self.ds.get_data():\n",
      "  File \"/home/xinru/ChineseTutor/deep-voice-conversion-master/data_load.py\", line 35, in get_data\n",
      "    yield get_mfccs_and_phones(wav_file=wav_file)\n",
      "  File \"/home/xinru/ChineseTutor/deep-voice-conversion-master/data_load.py\", line 86, in get_mfccs_and_phones\n",
      "    for line in open(phn_file, 'r').read().splitlines():\n",
      "FileNotFoundError: [Errno 2] No such file or directory: '/home/xinru/ChineseTutor/deep-voice-conversion-master/data1/arctic_a0012.PHN'\n",
      "Process _Worker-3:\n",
      "Traceback (most recent call last):\n",
      "  File \"/home/xinru/anaconda3/lib/python3.7/multiprocessing/process.py\", line 297, in _bootstrap\n",
      "    self.run()\n",
      "  File \"/home/xinru/anaconda3/lib/python3.7/site-packages/tensorpack/dataflow/parallel.py\", line 162, in run\n",
      "    for dp in self.ds.get_data():\n",
      "  File \"/home/xinru/anaconda3/lib/python3.7/site-packages/tensorpack/dataflow/common.py\", line 116, in get_data\n",
      "    for data in self.ds.get_data():\n",
      "  File \"/home/xinru/ChineseTutor/deep-voice-conversion-master/data_load.py\", line 35, in get_data\n",
      "    yield get_mfccs_and_phones(wav_file=wav_file)\n",
      "  File \"/home/xinru/ChineseTutor/deep-voice-conversion-master/data_load.py\", line 86, in get_mfccs_and_phones\n",
      "    for line in open(phn_file, 'r').read().splitlines():\n",
      "FileNotFoundError: [Errno 2] No such file or directory: '/home/xinru/ChineseTutor/deep-voice-conversion-master/data1/arctic_a0001.PHN'\n",
      "Process _Worker-4:\n",
      "Traceback (most recent call last):\n",
      "  File \"/home/xinru/anaconda3/lib/python3.7/multiprocessing/process.py\", line 297, in _bootstrap\n",
      "    self.run()\n",
      "  File \"/home/xinru/anaconda3/lib/python3.7/site-packages/tensorpack/dataflow/parallel.py\", line 162, in run\n",
      "    for dp in self.ds.get_data():\n",
      "  File \"/home/xinru/anaconda3/lib/python3.7/site-packages/tensorpack/dataflow/common.py\", line 116, in get_data\n",
      "    for data in self.ds.get_data():\n",
      "  File \"/home/xinru/ChineseTutor/deep-voice-conversion-master/data_load.py\", line 35, in get_data\n",
      "    yield get_mfccs_and_phones(wav_file=wav_file)\n",
      "  File \"/home/xinru/ChineseTutor/deep-voice-conversion-master/data_load.py\", line 86, in get_mfccs_and_phones\n",
      "    for line in open(phn_file, 'r').read().splitlines():\n",
      "FileNotFoundError: [Errno 2] No such file or directory: '/home/xinru/ChineseTutor/deep-voice-conversion-master/data1/arctic_a0007.PHN'\n",
      "Process _Worker-2:\n",
      "Traceback (most recent call last):\n",
      "  File \"/home/xinru/anaconda3/lib/python3.7/multiprocessing/process.py\", line 297, in _bootstrap\n",
      "    self.run()\n",
      "  File \"/home/xinru/anaconda3/lib/python3.7/site-packages/tensorpack/dataflow/parallel.py\", line 162, in run\n",
      "    for dp in self.ds.get_data():\n",
      "  File \"/home/xinru/anaconda3/lib/python3.7/site-packages/tensorpack/dataflow/common.py\", line 116, in get_data\n",
      "    for data in self.ds.get_data():\n",
      "  File \"/home/xinru/ChineseTutor/deep-voice-conversion-master/data_load.py\", line 35, in get_data\n",
      "    yield get_mfccs_and_phones(wav_file=wav_file)\n",
      "  File \"/home/xinru/ChineseTutor/deep-voice-conversion-master/data_load.py\", line 86, in get_mfccs_and_phones\n",
      "    for line in open(phn_file, 'r').read().splitlines():\n",
      "FileNotFoundError: [Errno 2] No such file or directory: '/home/xinru/ChineseTutor/deep-voice-conversion-master/data1/arctic_a0007.PHN'\n",
      "W0620 20:42:50.148364 139967258507072 deprecation.py:323] From /home/xinru/ChineseTutor/deep-voice-conversion-master/modules.py:273: dropout (from tensorflow.python.layers.core) is deprecated and will be removed in a future version.\n",
      "Instructions for updating:\n",
      "Use keras.layers.dropout instead.\n",
      "W0620 20:42:50.331355 139967258507072 deprecation.py:323] From /home/xinru/ChineseTutor/deep-voice-conversion-master/modules.py:169: conv1d (from tensorflow.python.layers.convolutional) is deprecated and will be removed in a future version.\n",
      "Instructions for updating:\n",
      "Use `tf.keras.layers.Conv1D` instead.\n",
      "W0620 20:42:50.635667 139967258507072 deprecation.py:323] From /home/xinru/ChineseTutor/deep-voice-conversion-master/modules.py:312: max_pooling1d (from tensorflow.python.layers.pooling) is deprecated and will be removed in a future version.\n",
      "Instructions for updating:\n",
      "Use keras.layers.MaxPooling1D instead.\n",
      "W0620 20:42:51.356820 139967258507072 deprecation.py:323] From /home/xinru/ChineseTutor/deep-voice-conversion-master/modules.py:216: GRUCell.__init__ (from tensorflow.python.ops.rnn_cell_impl) is deprecated and will be removed in a future version.\n",
      "Instructions for updating:\n",
      "This class is equivalent as tf.keras.layers.GRUCell, and will be replaced by that in Tensorflow 2.0.\n",
      "W0620 20:42:51.357956 139967258507072 deprecation.py:323] From /home/xinru/ChineseTutor/deep-voice-conversion-master/modules.py:221: bidirectional_dynamic_rnn (from tensorflow.python.ops.rnn) is deprecated and will be removed in a future version.\n",
      "Instructions for updating:\n",
      "Please use `keras.layers.Bidirectional(keras.layers.RNN(cell))`, which is equivalent to this API\n",
      "W0620 20:42:51.358717 139967258507072 deprecation.py:323] From /home/xinru/anaconda3/lib/python3.7/site-packages/tensorflow/python/ops/rnn.py:464: dynamic_rnn (from tensorflow.python.ops.rnn) is deprecated and will be removed in a future version.\n",
      "Instructions for updating:\n",
      "Please use `keras.layers.RNN(cell)`, which is equivalent to this API\n",
      "W0620 20:42:51.414306 139967258507072 deprecation.py:506] From /home/xinru/anaconda3/lib/python3.7/site-packages/tensorflow/python/ops/rnn_cell_impl.py:564: calling Constant.__init__ (from tensorflow.python.ops.init_ops) with dtype is deprecated and will be removed in a future version.\n",
      "Instructions for updating:\n",
      "Call initializer instance with the dtype argument instead of passing it to the constructor\n",
      "W0620 20:42:51.425188 139967258507072 deprecation.py:506] From /home/xinru/anaconda3/lib/python3.7/site-packages/tensorflow/python/ops/rnn_cell_impl.py:574: calling Zeros.__init__ (from tensorflow.python.ops.init_ops) with dtype is deprecated and will be removed in a future version.\n",
      "Instructions for updating:\n",
      "Call initializer instance with the dtype argument instead of passing it to the constructor\n",
      "W0620 20:42:51.719415 139967258507072 deprecation.py:323] From /home/xinru/ChineseTutor/deep-voice-conversion-master/models.py:64: to_int32 (from tensorflow.python.ops.math_ops) is deprecated and will be removed in a future version.\n",
      "Instructions for updating:\n",
      "Use `tf.cast` instead.\n",
      "W0620 20:42:51.751262 139967258507072 deprecation.py:323] From /home/xinru/ChineseTutor/deep-voice-conversion-master/models.py:78: to_float (from tensorflow.python.ops.math_ops) is deprecated and will be removed in a future version.\n",
      "Instructions for updating:\n",
      "Use `tf.cast` instead.\n",
      "W0620 20:42:51.767148 139967258507072 deprecation_wrapper.py:119] From /home/xinru/ChineseTutor/deep-voice-conversion-master/models.py:47: The name tf.train.AdamOptimizer is deprecated. Please use tf.compat.v1.train.AdamOptimizer instead.\n",
      "\n",
      "W0620 20:42:52.612482 139967258507072 deprecation.py:323] From /home/xinru/anaconda3/lib/python3.7/site-packages/tensorflow/python/ops/math_grad.py:1205: add_dispatch_support.<locals>.wrapper (from tensorflow.python.ops.array_ops) is deprecated and will be removed in a future version.\n",
      "Instructions for updating:\n",
      "Use tf.where in 2.0, which has the same broadcast rule as np.where\n"
     ]
    },
    {
     "name": "stdout",
     "output_type": "stream",
     "text": [
      "\u001b[32m[0620 20:42:53 @training.py:101]\u001b[0m Building graph for training tower 1 on device /gpu:1 ...\n",
      "\u001b[32m[0620 20:42:56 @collection.py:164]\u001b[0m These collections were modified but restored in tower1: (tf.GraphKeys.SUMMARIES: 3->5)\n"
     ]
    },
    {
     "ename": "ImportError",
     "evalue": "cannot import name 'nccl' from 'tensorflow.contrib' (/home/xinru/anaconda3/lib/python3.7/site-packages/tensorflow/contrib/__init__.py)",
     "output_type": "error",
     "traceback": [
      "\u001b[0;31m---------------------------------------------------------------------------\u001b[0m",
      "\u001b[0;31mImportError\u001b[0m                               Traceback (most recent call last)",
      "\u001b[0;32m~/ChineseTutor/deep-voice-conversion-master/train1.py\u001b[0m in \u001b[0;36m<module>\u001b[0;34m\u001b[0m\n\u001b[1;32m     76\u001b[0m     \u001b[0mprint\u001b[0m\u001b[0;34m(\u001b[0m\u001b[0;34m'case: {}, logdir: {}'\u001b[0m\u001b[0;34m.\u001b[0m\u001b[0mformat\u001b[0m\u001b[0;34m(\u001b[0m\u001b[0margs\u001b[0m\u001b[0;34m.\u001b[0m\u001b[0mcase\u001b[0m\u001b[0;34m,\u001b[0m \u001b[0mlogdir_train1\u001b[0m\u001b[0;34m)\u001b[0m\u001b[0;34m)\u001b[0m\u001b[0;34m\u001b[0m\u001b[0;34m\u001b[0m\u001b[0m\n\u001b[1;32m     77\u001b[0m \u001b[0;34m\u001b[0m\u001b[0m\n\u001b[0;32m---> 78\u001b[0;31m     \u001b[0mtrain\u001b[0m\u001b[0;34m(\u001b[0m\u001b[0margs\u001b[0m\u001b[0;34m,\u001b[0m \u001b[0mlogdir\u001b[0m\u001b[0;34m=\u001b[0m\u001b[0mlogdir_train1\u001b[0m\u001b[0;34m)\u001b[0m\u001b[0;34m\u001b[0m\u001b[0;34m\u001b[0m\u001b[0m\n\u001b[0m\u001b[1;32m     79\u001b[0m \u001b[0;34m\u001b[0m\u001b[0m\n\u001b[1;32m     80\u001b[0m     \u001b[0mprint\u001b[0m\u001b[0;34m(\u001b[0m\u001b[0;34m\"Done\"\u001b[0m\u001b[0;34m)\u001b[0m\u001b[0;34m\u001b[0m\u001b[0;34m\u001b[0m\u001b[0m\n",
      "\u001b[0;32m~/ChineseTutor/deep-voice-conversion-master/train1.py\u001b[0m in \u001b[0;36mtrain\u001b[0;34m(args, logdir)\u001b[0m\n\u001b[1;32m     58\u001b[0m     \u001b[0mtrainer\u001b[0m \u001b[0;34m=\u001b[0m \u001b[0mSyncMultiGPUTrainerReplicated\u001b[0m\u001b[0;34m(\u001b[0m\u001b[0mhp\u001b[0m\u001b[0;34m.\u001b[0m\u001b[0mtrain1\u001b[0m\u001b[0;34m.\u001b[0m\u001b[0mnum_gpu\u001b[0m\u001b[0;34m)\u001b[0m\u001b[0;34m\u001b[0m\u001b[0;34m\u001b[0m\u001b[0m\n\u001b[1;32m     59\u001b[0m \u001b[0;34m\u001b[0m\u001b[0m\n\u001b[0;32m---> 60\u001b[0;31m     \u001b[0mlaunch_train_with_config\u001b[0m\u001b[0;34m(\u001b[0m\u001b[0mtrain_conf\u001b[0m\u001b[0;34m,\u001b[0m \u001b[0mtrainer\u001b[0m\u001b[0;34m=\u001b[0m\u001b[0mtrainer\u001b[0m\u001b[0;34m)\u001b[0m\u001b[0;34m\u001b[0m\u001b[0;34m\u001b[0m\u001b[0m\n\u001b[0m\u001b[1;32m     61\u001b[0m \u001b[0;34m\u001b[0m\u001b[0m\n\u001b[1;32m     62\u001b[0m \u001b[0;34m\u001b[0m\u001b[0m\n",
      "\u001b[0;32m~/anaconda3/lib/python3.7/site-packages/tensorpack/train/interface.py\u001b[0m in \u001b[0;36mlaunch_train_with_config\u001b[0;34m(config, trainer)\u001b[0m\n\u001b[1;32m     79\u001b[0m     trainer.setup_graph(\n\u001b[1;32m     80\u001b[0m         \u001b[0minputs_desc\u001b[0m\u001b[0;34m,\u001b[0m \u001b[0minput\u001b[0m\u001b[0;34m,\u001b[0m\u001b[0;34m\u001b[0m\u001b[0;34m\u001b[0m\u001b[0m\n\u001b[0;32m---> 81\u001b[0;31m         model._build_graph_get_cost, model.get_optimizer)\n\u001b[0m\u001b[1;32m     82\u001b[0m     trainer.train_with_defaults(\n\u001b[1;32m     83\u001b[0m         \u001b[0mcallbacks\u001b[0m\u001b[0;34m=\u001b[0m\u001b[0mconfig\u001b[0m\u001b[0;34m.\u001b[0m\u001b[0mcallbacks\u001b[0m\u001b[0;34m,\u001b[0m\u001b[0;34m\u001b[0m\u001b[0;34m\u001b[0m\u001b[0m\n",
      "\u001b[0;32m~/anaconda3/lib/python3.7/site-packages/tensorpack/utils/argtools.py\u001b[0m in \u001b[0;36mwrapper\u001b[0;34m(*args, **kwargs)\u001b[0m\n\u001b[1;32m    179\u001b[0m         \u001b[0m_FUNC_CALLED\u001b[0m\u001b[0;34m.\u001b[0m\u001b[0madd\u001b[0m\u001b[0;34m(\u001b[0m\u001b[0mkey\u001b[0m\u001b[0;34m)\u001b[0m\u001b[0;34m\u001b[0m\u001b[0;34m\u001b[0m\u001b[0m\n\u001b[1;32m    180\u001b[0m \u001b[0;34m\u001b[0m\u001b[0m\n\u001b[0;32m--> 181\u001b[0;31m         \u001b[0;32mreturn\u001b[0m \u001b[0mfunc\u001b[0m\u001b[0;34m(\u001b[0m\u001b[0;34m*\u001b[0m\u001b[0margs\u001b[0m\u001b[0;34m,\u001b[0m \u001b[0;34m**\u001b[0m\u001b[0mkwargs\u001b[0m\u001b[0;34m)\u001b[0m\u001b[0;34m\u001b[0m\u001b[0;34m\u001b[0m\u001b[0m\n\u001b[0m\u001b[1;32m    182\u001b[0m \u001b[0;34m\u001b[0m\u001b[0m\n\u001b[1;32m    183\u001b[0m     \u001b[0;32mreturn\u001b[0m \u001b[0mwrapper\u001b[0m\u001b[0;34m\u001b[0m\u001b[0;34m\u001b[0m\u001b[0m\n",
      "\u001b[0;32m~/anaconda3/lib/python3.7/site-packages/tensorpack/train/tower.py\u001b[0m in \u001b[0;36msetup_graph\u001b[0;34m(self, inputs_desc, input, get_cost_fn, get_opt_fn)\u001b[0m\n\u001b[1;32m    171\u001b[0m         \u001b[0;31m# TODO setup may want to register monitor as well??\u001b[0m\u001b[0;34m\u001b[0m\u001b[0;34m\u001b[0m\u001b[0;34m\u001b[0m\u001b[0m\n\u001b[1;32m    172\u001b[0m         \u001b[0minput_callbacks\u001b[0m \u001b[0;34m=\u001b[0m \u001b[0mself\u001b[0m\u001b[0;34m.\u001b[0m\u001b[0m_setup_input\u001b[0m\u001b[0;34m(\u001b[0m\u001b[0minputs_desc\u001b[0m\u001b[0;34m,\u001b[0m \u001b[0minput\u001b[0m\u001b[0;34m)\u001b[0m\u001b[0;34m\u001b[0m\u001b[0;34m\u001b[0m\u001b[0m\n\u001b[0;32m--> 173\u001b[0;31m         \u001b[0mtrain_callbacks\u001b[0m \u001b[0;34m=\u001b[0m \u001b[0mself\u001b[0m\u001b[0;34m.\u001b[0m\u001b[0m_setup_graph\u001b[0m\u001b[0;34m(\u001b[0m\u001b[0minput\u001b[0m\u001b[0;34m,\u001b[0m \u001b[0mget_cost_fn\u001b[0m\u001b[0;34m,\u001b[0m \u001b[0mget_opt_fn\u001b[0m\u001b[0;34m)\u001b[0m\u001b[0;34m\u001b[0m\u001b[0;34m\u001b[0m\u001b[0m\n\u001b[0m\u001b[1;32m    174\u001b[0m         \u001b[0mself\u001b[0m\u001b[0;34m.\u001b[0m\u001b[0mregister_callback\u001b[0m\u001b[0;34m(\u001b[0m\u001b[0minput_callbacks\u001b[0m \u001b[0;34m+\u001b[0m \u001b[0mtrain_callbacks\u001b[0m\u001b[0;34m)\u001b[0m\u001b[0;34m\u001b[0m\u001b[0;34m\u001b[0m\u001b[0m\n\u001b[1;32m    175\u001b[0m \u001b[0;34m\u001b[0m\u001b[0m\n",
      "\u001b[0;32m~/anaconda3/lib/python3.7/site-packages/tensorpack/train/trainers.py\u001b[0m in \u001b[0;36m_setup_graph\u001b[0;34m(self, input, get_cost_fn, get_opt_fn)\u001b[0m\n\u001b[1;32m    164\u001b[0m     \u001b[0;32mdef\u001b[0m \u001b[0m_setup_graph\u001b[0m\u001b[0;34m(\u001b[0m\u001b[0mself\u001b[0m\u001b[0;34m,\u001b[0m \u001b[0minput\u001b[0m\u001b[0;34m,\u001b[0m \u001b[0mget_cost_fn\u001b[0m\u001b[0;34m,\u001b[0m \u001b[0mget_opt_fn\u001b[0m\u001b[0;34m)\u001b[0m\u001b[0;34m:\u001b[0m\u001b[0;34m\u001b[0m\u001b[0;34m\u001b[0m\u001b[0m\n\u001b[1;32m    165\u001b[0m         self.train_op, post_init_op = self._builder.build(\n\u001b[0;32m--> 166\u001b[0;31m             self._make_get_grad_fn(input, get_cost_fn, get_opt_fn), get_opt_fn)\n\u001b[0m\u001b[1;32m    167\u001b[0m \u001b[0;34m\u001b[0m\u001b[0m\n\u001b[1;32m    168\u001b[0m         cb = RunOp(\n",
      "\u001b[0;32m~/anaconda3/lib/python3.7/site-packages/tensorpack/graph_builder/training.py\u001b[0m in \u001b[0;36mbuild\u001b[0;34m(self, get_grad_fn, get_opt_fn)\u001b[0m\n\u001b[1;32m    230\u001b[0m \u001b[0;34m\u001b[0m\u001b[0m\n\u001b[1;32m    231\u001b[0m             \u001b[0;32mif\u001b[0m \u001b[0mself\u001b[0m\u001b[0;34m.\u001b[0m\u001b[0m_mode\u001b[0m \u001b[0;34m==\u001b[0m \u001b[0;34m'nccl'\u001b[0m\u001b[0;34m:\u001b[0m\u001b[0;34m\u001b[0m\u001b[0;34m\u001b[0m\u001b[0m\n\u001b[0;32m--> 232\u001b[0;31m                 \u001b[0mall_grads\u001b[0m \u001b[0;34m=\u001b[0m \u001b[0mallreduce_grads\u001b[0m\u001b[0;34m(\u001b[0m\u001b[0mall_grads\u001b[0m\u001b[0;34m,\u001b[0m \u001b[0maverage\u001b[0m\u001b[0;34m=\u001b[0m\u001b[0mself\u001b[0m\u001b[0;34m.\u001b[0m\u001b[0m_average\u001b[0m\u001b[0;34m)\u001b[0m  \u001b[0;31m# #gpu x #param\u001b[0m\u001b[0;34m\u001b[0m\u001b[0;34m\u001b[0m\u001b[0m\n\u001b[0m\u001b[1;32m    233\u001b[0m             \u001b[0;32melse\u001b[0m\u001b[0;34m:\u001b[0m\u001b[0;34m\u001b[0m\u001b[0;34m\u001b[0m\u001b[0m\n\u001b[1;32m    234\u001b[0m                 \u001b[0mpacker\u001b[0m \u001b[0;34m=\u001b[0m \u001b[0mGradientPacker\u001b[0m\u001b[0;34m(\u001b[0m\u001b[0mlen\u001b[0m\u001b[0;34m(\u001b[0m\u001b[0mraw_devices\u001b[0m\u001b[0;34m)\u001b[0m\u001b[0;34m)\u001b[0m\u001b[0;34m\u001b[0m\u001b[0;34m\u001b[0m\u001b[0m\n",
      "\u001b[0;32m~/anaconda3/lib/python3.7/site-packages/tensorpack/tfutils/scope_utils.py\u001b[0m in \u001b[0;36mwrapper\u001b[0;34m(*args, **kwargs)\u001b[0m\n\u001b[1;32m     82\u001b[0m                 \u001b[0mscopename\u001b[0m \u001b[0;34m=\u001b[0m \u001b[0mname\u001b[0m\u001b[0;34m\u001b[0m\u001b[0;34m\u001b[0m\u001b[0m\n\u001b[1;32m     83\u001b[0m             \u001b[0;32mwith\u001b[0m \u001b[0mtf\u001b[0m\u001b[0;34m.\u001b[0m\u001b[0mname_scope\u001b[0m\u001b[0;34m(\u001b[0m\u001b[0mscopename\u001b[0m\u001b[0;34m)\u001b[0m\u001b[0;34m:\u001b[0m\u001b[0;34m\u001b[0m\u001b[0;34m\u001b[0m\u001b[0m\n\u001b[0;32m---> 84\u001b[0;31m                 \u001b[0;32mreturn\u001b[0m \u001b[0mfunc\u001b[0m\u001b[0;34m(\u001b[0m\u001b[0;34m*\u001b[0m\u001b[0margs\u001b[0m\u001b[0;34m,\u001b[0m \u001b[0;34m**\u001b[0m\u001b[0mkwargs\u001b[0m\u001b[0;34m)\u001b[0m\u001b[0;34m\u001b[0m\u001b[0;34m\u001b[0m\u001b[0m\n\u001b[0m\u001b[1;32m     85\u001b[0m         \u001b[0;32mreturn\u001b[0m \u001b[0mwrapper\u001b[0m\u001b[0;34m\u001b[0m\u001b[0;34m\u001b[0m\u001b[0m\n\u001b[1;32m     86\u001b[0m     \u001b[0;32mreturn\u001b[0m \u001b[0m_impl\u001b[0m\u001b[0;34m\u001b[0m\u001b[0;34m\u001b[0m\u001b[0m\n",
      "\u001b[0;32m~/anaconda3/lib/python3.7/site-packages/tensorpack/graph_builder/utils.py\u001b[0m in \u001b[0;36mallreduce_grads\u001b[0;34m(all_grads, average)\u001b[0m\n\u001b[1;32m    132\u001b[0m         \u001b[0mK\u001b[0m \u001b[0mx\u001b[0m \u001b[0mN\u001b[0m\u001b[0;34m:\u001b[0m \u001b[0msame\u001b[0m \u001b[0;32mas\u001b[0m \u001b[0minput\u001b[0m\u001b[0;34m,\u001b[0m \u001b[0mbut\u001b[0m \u001b[0meach\u001b[0m \u001b[0mgrad\u001b[0m \u001b[0;32mis\u001b[0m \u001b[0mreplaced\u001b[0m \u001b[0mby\u001b[0m \u001b[0mthe\u001b[0m \u001b[0maverage\u001b[0m \u001b[0mover\u001b[0m \u001b[0mK\u001b[0m \u001b[0mdevices\u001b[0m\u001b[0;34m.\u001b[0m\u001b[0;34m\u001b[0m\u001b[0;34m\u001b[0m\u001b[0m\n\u001b[1;32m    133\u001b[0m     \"\"\"\n\u001b[0;32m--> 134\u001b[0;31m     \u001b[0;32mfrom\u001b[0m \u001b[0mtensorflow\u001b[0m\u001b[0;34m.\u001b[0m\u001b[0mcontrib\u001b[0m \u001b[0;32mimport\u001b[0m \u001b[0mnccl\u001b[0m\u001b[0;34m\u001b[0m\u001b[0;34m\u001b[0m\u001b[0m\n\u001b[0m\u001b[1;32m    135\u001b[0m     \u001b[0mnr_tower\u001b[0m \u001b[0;34m=\u001b[0m \u001b[0mlen\u001b[0m\u001b[0;34m(\u001b[0m\u001b[0mall_grads\u001b[0m\u001b[0;34m)\u001b[0m\u001b[0;34m\u001b[0m\u001b[0;34m\u001b[0m\u001b[0m\n\u001b[1;32m    136\u001b[0m     \u001b[0;32mif\u001b[0m \u001b[0mnr_tower\u001b[0m \u001b[0;34m==\u001b[0m \u001b[0;36m1\u001b[0m\u001b[0;34m:\u001b[0m\u001b[0;34m\u001b[0m\u001b[0;34m\u001b[0m\u001b[0m\n",
      "\u001b[0;31mImportError\u001b[0m: cannot import name 'nccl' from 'tensorflow.contrib' (/home/xinru/anaconda3/lib/python3.7/site-packages/tensorflow/contrib/__init__.py)"
     ]
    }
   ],
   "source": [
    "%run train1.py test"
   ]
  },
  {
   "cell_type": "code",
   "execution_count": null,
   "metadata": {},
   "outputs": [],
   "source": []
  }
 ],
 "metadata": {
  "kernelspec": {
   "display_name": "Python 2",
   "language": "python",
   "name": "python2"
  },
  "language_info": {
   "codemirror_mode": {
    "name": "ipython",
    "version": 3
   },
   "file_extension": ".py",
   "mimetype": "text/x-python",
   "name": "python",
   "nbconvert_exporter": "python",
   "pygments_lexer": "ipython3",
   "version": "3.7.3"
  }
 },
 "nbformat": 4,
 "nbformat_minor": 2
}
